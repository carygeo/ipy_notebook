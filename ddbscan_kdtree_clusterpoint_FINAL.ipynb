{
 "cells": [
  {
   "cell_type": "code",
   "execution_count": null,
   "metadata": {
    "collapsed": true
   },
   "outputs": [],
   "source": []
  },
  {
   "cell_type": "code",
   "execution_count": 2,
   "metadata": {
    "collapsed": false
   },
   "outputs": [],
   "source": [
    "import ddbscan\n",
    "import numpy as np\n",
    "import sys\n",
    "\n",
    "# Create a DDBSCAN model with eps = 2 and min_pts = 5\n",
    "scan = ddbscan.DDBSCAN(0.004, 5)\n",
    "\n",
    "# Points per cluster (greater than the value below)\n",
    "pnts_per_cluster = 13\n",
    "\n",
    "\n",
    "# Add points to model\n",
    "output = []\n",
    "c = []\n",
    "result = []\n",
    "final = []\n",
    "\n",
    "with open(\"/Users/carygreenwood/Documents/Data_Science/JIRA/ha/greece_points.txt\", \"r\") as ins:\n",
    "    data = []\n",
    "    \n",
    "    read = ins.read().splitlines()\n",
    "    \n",
    "    for line in read:\n",
    "        a = line.strip().split()\n",
    "        y = [float(i) for i in a]\n",
    "        data.append(y)\n",
    "\n",
    "for point in data:\n",
    "    scan.add_point(point=point, count=1, desc=\"\")\n",
    "\n",
    "#sys.stdout = open(\"/Users/carygreenwood/Documents/Data_Science/JIRA/ha/clustering_tests/clustering_polygon.txt\", 'w')\n",
    "    \n",
    "# Compute clusters\n",
    "scan.compute()\n",
    "\n",
    "# Print Result\n",
    "for i in xrange(len(scan.points)):\n",
    "        if scan.points_data[i].cluster == -1:\n",
    "            pass\n",
    "        else:\n",
    "            output = '%s' % scan.points[i] + '\\t %2d' % scan.points_data[i].cluster\n",
    "            output = output.replace(\"[\",\"\")\n",
    "            output = output.replace(\"]\",\"\")\n",
    "            output = output.replace(\",\",\"\\t\")\n",
    "            \n",
    "            # Determine number of points per cluster and append\n",
    "            col = output[24:]\n",
    "            #print col\n",
    "            new = col.strip()\n",
    "            c.append(new)\n",
    "            val = scan.points_data[i].cluster\n",
    "            val2 = str(val)\n",
    "            points = (len(scan.clusters[val]))\n",
    "            \n",
    "            if points > pnts_per_cluster:\n",
    "                print output + \"\\t\" + str(len(scan.clusters[val]))\n",
    "                result = output + \"\\t\" + str(len(scan.clusters[val]))\n",
    "print result\n",
    "            "
   ]
  },
  {
   "cell_type": "code",
   "execution_count": null,
   "metadata": {
    "collapsed": true
   },
   "outputs": [],
   "source": []
  }
 ],
 "metadata": {
  "kernelspec": {
   "display_name": "Python 2",
   "language": "python",
   "name": "python2"
  },
  "language_info": {
   "codemirror_mode": {
    "name": "ipython",
    "version": 2
   },
   "file_extension": ".py",
   "mimetype": "text/x-python",
   "name": "python",
   "nbconvert_exporter": "python",
   "pygments_lexer": "ipython2",
   "version": "2.7.9"
  }
 },
 "nbformat": 4,
 "nbformat_minor": 0
}
