{
 "cells": [
  {
   "cell_type": "code",
   "execution_count": 15,
   "metadata": {
    "collapsed": true
   },
   "outputs": [],
   "source": [
    "import numpy \n",
    "import time \n",
    "from math import radians, cos, sin, asin, sqrt\n",
    "import re, math\n",
    "\n",
    "def haversine(lon1, lat1, lon2, lat2):\n",
    "    \"\"\"\n",
    "    Calculate the great circle distance between two points \n",
    "    on the earth (specified in decimal degrees) returned as kilometers \n",
    "    \"\"\"\n",
    "    # convert decimal degrees to radians \n",
    "    lon1, lat1, lon2, lat2 = map(radians, [lon1, lat1, lon2, lat2])\n",
    "    # haversine formula \n",
    "    dlon = lon2 - lon1 \n",
    "    dlat = lat2 - lat1 \n",
    "    a = sin(dlat/2)**2 + cos(lat1) * cos(lat2) * sin(dlon/2)**2\n",
    "    c = 2 * asin(sqrt(a)) \n",
    "    km = 6367 * c\n",
    "    return km\n",
    "\n",
    "def ST_DBSCAN(points,max_distance,MinPts):\n",
    "    global visited\n",
    "    visited = []\n",
    "    noise = []\n",
    "    cluster_id = 0\n",
    "    clusters = []\n",
    "    in_cluster = []\n",
    "    for p in points: \n",
    "        if p not in visited:\n",
    "            # neighbor_points = []\n",
    "            visited.append(p)\n",
    "            NeighborPts = regionQuery(p,points,max_distance)\n",
    "            if len(NeighborPts) < MinPts:\n",
    "                noise.append(p)\n",
    "            else:\n",
    "                cluster_id = cluster_id + 1\n",
    "                g = expandCluster(p,NeighborPts,max_distance,MinPts,in_cluster)\n",
    "                clusters.append(g)\n",
    "    return clusters\n",
    "\n",
    "#return len(NeighborPts)\n",
    "\n",
    "def expandCluster(p,NeighborPts,max_distance,MinPts,in_cluster):\n",
    "    in_cluster.append(p[0])\n",
    "    cluster = []\n",
    "    cluster.append(p[0])\n",
    "    for point in NeighborPts:\n",
    "        if point not in visited:\n",
    "            visited.append(point)\n",
    "            new_neighbors = regionQuery(point,points,max_distance)\n",
    "            if len(new_neighbors) >= MinPts: \n",
    "                new_neighbors.append(NeighborPts)\n",
    "            if point[0] not in in_cluster:\n",
    "                 in_cluster.append(point[0])\n",
    "                 cluster.append(point[0])             \n",
    "    return  cluster\n",
    "\n",
    "\n",
    "\n",
    "\n",
    "def regionQuery(p,points,max_distance):\n",
    "    neighbor_points = []\n",
    "    for j in points:\n",
    "        if j != p:\n",
    "           # print 'P is %s and j is %s' % (p[0],j[0])\n",
    "            dist = haversine(p[1],p[2],j[1],j[2])\n",
    "            if dist <= max_distance:\n",
    "                neighbor_points.append(j)\n",
    "    neighbor_points.append(p) \n",
    "    return neighbor_points   "
   ]
  },
  {
   "cell_type": "code",
   "execution_count": 16,
   "metadata": {
    "collapsed": false
   },
   "outputs": [
    {
     "ename": "SyntaxError",
     "evalue": "invalid syntax (<ipython-input-16-eb61e1939f35>, line 1)",
     "output_type": "error",
     "traceback": [
      "\u001b[0;36m  File \u001b[0;32m\"<ipython-input-16-eb61e1939f35>\"\u001b[0;36m, line \u001b[0;32m1\u001b[0m\n\u001b[0;31m    for counter in range(5)\u001b[0m\n\u001b[0m                           ^\u001b[0m\n\u001b[0;31mSyntaxError\u001b[0m\u001b[0;31m:\u001b[0m invalid syntax\n"
     ]
    }
   ],
   "source": [
    "for counter in range(5)"
   ]
  },
  {
   "cell_type": "code",
   "execution_count": 12,
   "metadata": {
    "collapsed": false
   },
   "outputs": [
    {
     "ename": "SyntaxError",
     "evalue": "invalid syntax (<ipython-input-12-eb61e1939f35>, line 1)",
     "output_type": "error",
     "traceback": [
      "\u001b[0;36m  File \u001b[0;32m\"<ipython-input-12-eb61e1939f35>\"\u001b[0;36m, line \u001b[0;32m1\u001b[0m\n\u001b[0;31m    for counter in range(5)\u001b[0m\n\u001b[0m                           ^\u001b[0m\n\u001b[0;31mSyntaxError\u001b[0m\u001b[0;31m:\u001b[0m invalid syntax\n"
     ]
    }
   ],
   "source": [
    "for counter in range(5)"
   ]
  },
  {
   "cell_type": "code",
   "execution_count": 14,
   "metadata": {
    "collapsed": false
   },
   "outputs": [
    {
     "name": "stdout",
     "output_type": "stream",
     "text": [
      "0\n",
      "1\n",
      "2\n",
      "3\n",
      "4\n"
     ]
    }
   ],
   "source": [
    "for counter in range(5):\n",
    "    print(counter)"
   ]
  },
  {
   "cell_type": "code",
   "execution_count": null,
   "metadata": {
    "collapsed": true
   },
   "outputs": [],
   "source": []
  }
 ],
 "metadata": {
  "kernelspec": {
   "display_name": "Python 2",
   "language": "python",
   "name": "python2"
  },
  "language_info": {
   "codemirror_mode": {
    "name": "ipython",
    "version": 2
   },
   "file_extension": ".py",
   "mimetype": "text/x-python",
   "name": "python",
   "nbconvert_exporter": "python",
   "pygments_lexer": "ipython2",
   "version": "2.7.9"
  }
 },
 "nbformat": 4,
 "nbformat_minor": 0
}
